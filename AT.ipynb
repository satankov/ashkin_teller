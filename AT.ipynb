{
 "cells": [
  {
   "cell_type": "code",
   "execution_count": null,
   "metadata": {
    "ExecuteTime": {
     "end_time": "2020-07-18T13:46:30.510225Z",
     "start_time": "2020-07-18T13:46:28.849017Z"
    }
   },
   "outputs": [],
   "source": [
    "#Uses python3\n",
    "\n",
    "import numpy as np\n",
    "import time\n",
    "import pandas as pd\n",
    "import sys"
   ]
  },
  {
   "cell_type": "code",
   "execution_count": 100,
   "metadata": {
    "ExecuteTime": {
     "end_time": "2020-07-18T17:33:34.341174Z",
     "start_time": "2020-07-18T17:33:34.295671Z"
    }
   },
   "outputs": [],
   "source": [
    "#====================== all functions ======================\n",
    "def coord(site):\n",
    "    \"\"\"get coordinate i of vector\"\"\"\n",
    "    x = site // L\n",
    "    y = site - x*L\n",
    "    return (x,y)\n",
    "\n",
    "def get(i):\n",
    "    \"\"\"fixin' boundary\"\"\"\n",
    "    if i<0: return i\n",
    "    else: return i % L\n",
    "    \n",
    "def get_neigh():\n",
    "    \"\"\"get neighbour's arr\"\"\"\n",
    "    s = np.arange(L**2).reshape(L,L)\n",
    "    nei = []\n",
    "    for site in range(L*L):\n",
    "        i,j = coord(site)\n",
    "        nei += [s[get(i-1),get(j)],s[get(i),get(j+1)],s[get(i+1),get(j)],s[get(i),get(j-1)]]\n",
    "    return np.array(nei, dtype=np.int32).reshape(L*L,4)\n",
    "\n",
    "#################################################################\n",
    "def gen_state():\n",
    "    \"\"\"generate random start state with lenght L*L and [-1,1] components\"\"\"\n",
    "    state_s = np.array([np.random.choice([-1,1]) for _ in range(L*L)], dtype=np.int32)#.reshape(L,L)\n",
    "    state_t = np.array([np.random.choice([-1,1]) for _ in range(L*L)], dtype=np.int32)#.reshape(L,L)\n",
    "    return state_s, state_t\n",
    "\n",
    "def mc_choice(dE,T):\n",
    "    \"\"\"принимаем или не принимаем переворот спина?\"\"\"\n",
    "    if dE < 0:\n",
    "        return True\n",
    "    elif np.random.uniform() <= np.exp(-dE/T):\n",
    "        return True\n",
    "    else:\n",
    "        return False \n",
    "    \n",
    "def calc_dE(site_s, site_t, neigh_s, neigh_t,l):\n",
    "    \"\"\"calculate dE\"\"\"\n",
    "    e1,e2 = 0,0\n",
    "    for i in range(4):\n",
    "        e1 += (site_s*neigh_s[i] + site_t*neigh_t[i] + site_s*neigh_s[i]*site_t*neigh_t[i])\n",
    "    if l==1:\n",
    "        site_s *= -1\n",
    "        for i in range(4):\n",
    "            e2 += (site_s*neigh_s[i] + site_t*neigh_t[i] + site_s*neigh_s[i]*site_t*neigh_t[i])\n",
    "    else:\n",
    "        site_t *= -1\n",
    "        for i in range(4):\n",
    "            e2 += (site_s*neigh_s[i] + site_t*neigh_t[i] + site_s*neigh_s[i]*site_t*neigh_t[i])\n",
    "    return e1-e2\n",
    "\n",
    "def step(s,t,nei,T):\n",
    "    \"\"\"крутим 1 спин\"\"\"\n",
    "    j,k = np.random.randint(-1,L-1), np.random.randint(-1,L-1) \n",
    "    if j==-1: j=L-1\n",
    "    if k==-1: k=L-1\n",
    "    site = j*L+k\n",
    "    \n",
    "    if np.random.choice([-1,1])==1:\n",
    "        neigh_s = s[nei[site,:]]  \n",
    "        neigh_t = t[nei[site,:]]  \n",
    "        dE = calc_dE(s[site], t[site], neigh_s, neigh_t,1)\n",
    "        if mc_choice(dE,T):\n",
    "            s[site] *= -1\n",
    "    else: \n",
    "        neigh_s = s[nei[site,:]]  \n",
    "        neigh_t = t[nei[site,:]]  \n",
    "        dE = calc_dE(s[site], t[site], neigh_s, neigh_t,-1)\n",
    "        if mc_choice(dE,T):\n",
    "            t[site] *= -1\n",
    "\n",
    "def mc_step(s, t, nei, T):\n",
    "    \"\"\"perform 2*L*L steps MC to relax\"\"\"\n",
    "    for _ in range(2*L*L):\n",
    "        step(s,t,nei,T)\n",
    "        \n",
    "#################################################################\n",
    "def expand(state):\n",
    "    _a = np.concatenate((state[L-1].reshape(1,L), state), axis=0)   # add last line to TOP\n",
    "    a = np.concatenate((_a, _a[:,0].reshape(L+1,1)), axis=1)    # add first line to RIGHT\n",
    "    return a\n",
    "def calc_e(s,t):\n",
    "    s,t = s.reshape(L,L),t.reshape(L,L)\n",
    "    s,t = expand(s), expand(t)\n",
    "    e = 0\n",
    "    for i in range(L):\n",
    "        for j in range(L):\n",
    "            e += s[i,j]*s[i+1,j] + t[i,j]*t[i+1,j] + s[i,j]*s[i+1,j]*t[i,j]*t[i+1,j] # right neighbour\n",
    "            e += s[i,j]*s[i,j+1] + t[i,j]*t[i,j+1] + s[i,j]*s[i,j+1]*t[i,j]*t[i,j+1] # down neighbour\n",
    "    return -e/(L*L)\n",
    "def calc_m(s):\n",
    "    m = 0\n",
    "    for i in range(L):\n",
    "        for j in range(L):\n",
    "            m += s[i,j]\n",
    "    return m/(L*L) \n",
    "#################################################################\n",
    "def model_at(T,N_avg,N_mc=1,Relax=1000):\n",
    "    \"\"\"Моделируем АТ\"\"\"\n",
    "    E, M_s, M_t = [], [], []\n",
    "    edict = gen_e_dict()\n",
    "    state_s, state_t = gen_state()\n",
    "    \n",
    "    #relax 10**3 times be4 AVG\n",
    "    for __ in range(Relax):\n",
    "            state_s, state_t = mc_step(state_s, state_t, edict, T)\n",
    "    #AVG every N_mc steps\n",
    "    for _ in range(N_avg):\n",
    "        for __ in range(N_mc):\n",
    "            state_s, state_t = mc_step(state_s, state_t, edict, T)\n",
    "        E += [calc_e(state_s,state_t,L)]\n",
    "        M_s += [calc_m(state_s,L)]\n",
    "        M_t += [calc_m(state_t,L)]\n",
    "    \n",
    "    return E, M_s, M_t"
   ]
  },
  {
   "cell_type": "code",
   "execution_count": 102,
   "metadata": {
    "ExecuteTime": {
     "end_time": "2020-07-18T19:12:29.571323Z",
     "start_time": "2020-07-18T19:10:40.216297Z"
    }
   },
   "outputs": [
    {
     "name": "stdout",
     "output_type": "stream",
     "text": [
      "13.6 s ± 498 ms per loop (mean ± std. dev. of 7 runs, 1 loop each)\n"
     ]
    }
   ],
   "source": [
    "global L\n",
    "L = 100\n",
    "\n",
    "np.random.seed(1)\n",
    "s,t = gen_state(); nei = get_neigh()#gen_e_dict()\n",
    "\n",
    "%timeit [mc_step(s,t,nei,1) for _ in range(10)]"
   ]
  },
  {
   "cell_type": "code",
   "execution_count": 101,
   "metadata": {
    "ExecuteTime": {
     "end_time": "2020-07-18T17:33:51.638646Z",
     "start_time": "2020-07-18T17:33:37.667042Z"
    }
   },
   "outputs": [
    {
     "name": "stdout",
     "output_type": "stream",
     "text": [
      "-0.0556\n",
      "-4.226\n"
     ]
    }
   ],
   "source": [
    "global L\n",
    "L = 100\n",
    "\n",
    "np.random.seed(1)\n",
    "s,t = gen_state(); nei = get_neigh()#gen_e_dict()\n",
    "print(calc_e(s,t))\n",
    "\n",
    "for _ in range(10):\n",
    "    mc_step(s,t, nei, 1)\n",
    "print(calc_e(s,t))"
   ]
  },
  {
   "cell_type": "code",
   "execution_count": null,
   "metadata": {},
   "outputs": [],
   "source": [
    "# py              -- 4.83 s ± 136 ms per loop (mean ± std. dev. of 7 runs, 1 loop each)\n",
    "# py + neigh      -- 13.6 s ± 498 ms per loop (mean ± std. dev. of 7 runs, 1 loop each)"
   ]
  },
  {
   "cell_type": "code",
   "execution_count": null,
   "metadata": {},
   "outputs": [],
   "source": [
    "-0.0556\n",
    "-4.226"
   ]
  },
  {
   "cell_type": "code",
   "execution_count": null,
   "metadata": {},
   "outputs": [],
   "source": []
  },
  {
   "cell_type": "code",
   "execution_count": null,
   "metadata": {},
   "outputs": [],
   "source": []
  },
  {
   "cell_type": "code",
   "execution_count": null,
   "metadata": {},
   "outputs": [],
   "source": []
  },
  {
   "cell_type": "code",
   "execution_count": null,
   "metadata": {},
   "outputs": [],
   "source": []
  }
 ],
 "metadata": {
  "kernelspec": {
   "display_name": "Python 3",
   "language": "python",
   "name": "python3"
  },
  "language_info": {
   "codemirror_mode": {
    "name": "ipython",
    "version": 3
   },
   "file_extension": ".py",
   "mimetype": "text/x-python",
   "name": "python",
   "nbconvert_exporter": "python",
   "pygments_lexer": "ipython3",
   "version": "3.6.8"
  },
  "toc": {
   "base_numbering": 1,
   "nav_menu": {},
   "number_sections": false,
   "sideBar": true,
   "skip_h1_title": false,
   "title_cell": "Table of Contents",
   "title_sidebar": "Contents",
   "toc_cell": false,
   "toc_position": {},
   "toc_section_display": true,
   "toc_window_display": false
  },
  "varInspector": {
   "cols": {
    "lenName": 16,
    "lenType": 16,
    "lenVar": 40
   },
   "kernels_config": {
    "python": {
     "delete_cmd_postfix": "",
     "delete_cmd_prefix": "del ",
     "library": "var_list.py",
     "varRefreshCmd": "print(var_dic_list())"
    },
    "r": {
     "delete_cmd_postfix": ") ",
     "delete_cmd_prefix": "rm(",
     "library": "var_list.r",
     "varRefreshCmd": "cat(var_dic_list()) "
    }
   },
   "types_to_exclude": [
    "module",
    "function",
    "builtin_function_or_method",
    "instance",
    "_Feature"
   ],
   "window_display": false
  }
 },
 "nbformat": 4,
 "nbformat_minor": 2
}
