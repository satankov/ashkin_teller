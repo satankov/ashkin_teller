{
 "cells": [
  {
   "cell_type": "code",
   "execution_count": null,
   "metadata": {
    "ExecuteTime": {
     "end_time": "2020-07-18T13:46:30.510225Z",
     "start_time": "2020-07-18T13:46:28.849017Z"
    }
   },
   "outputs": [],
   "source": [
    "#Uses python3\n",
    "\n",
    "import numpy as np\n",
    "import random as rnd\n",
    "import time\n",
    "import pandas as pd\n",
    "import sys"
   ]
  },
  {
   "cell_type": "code",
   "execution_count": 17,
   "metadata": {
    "ExecuteTime": {
     "end_time": "2020-07-18T14:00:03.041816Z",
     "start_time": "2020-07-18T14:00:02.962214Z"
    }
   },
   "outputs": [],
   "source": [
    "#====================== all functions ======================\n",
    "def gen_e0(n):\n",
    "    \"\"\"генерирует все возможные последовательности из 10 спинов\"\"\"\n",
    "    n_b = str(bin(n))[2:]\n",
    "    n_arr = [-1]*(10-len(n_b)) + [int(x) if x=='1' else -1 for x in n_b]\n",
    "    return n_arr\n",
    "def calc_e_dict(arr):\n",
    "    \"\"\"вычисляет энергию конкретной конфигурации\"\"\"\n",
    "    J = 1\n",
    "    e = 0\n",
    "    e += (\n",
    "        arr[0]*arr[1] + arr[0]*arr[2] + arr[0]*arr[3] + arr[0]*arr[4] +\n",
    "        arr[5]*arr[6] + arr[5]*arr[7] + arr[5]*arr[8] + arr[5]*arr[9] +\n",
    "        arr[0]*arr[1]*arr[5]*arr[6] +\n",
    "        arr[0]*arr[2]*arr[5]*arr[7] + \n",
    "        arr[0]*arr[3]*arr[5]*arr[8] + \n",
    "        arr[0]*arr[4]*arr[5]*arr[9]\n",
    "    )\n",
    "    return -J*e\n",
    "def gen_e_dict():\n",
    "    \"\"\"генерируем и заоплняем словарь всех энергий\"\"\"\n",
    "    d = dict()\n",
    "    for i in range(0,1024):\n",
    "        conf = gen_e0(i)\n",
    "        d[str(conf)] = calc_e_dict(conf)\n",
    "    return d\n",
    "#################################################################\n",
    "def gen_state():\n",
    "    \"\"\"generate random start state with lenght L*L and [-1,1] components\"\"\"\n",
    "    #np.random.seed(1234)\n",
    "    state_s = np.random.choice([-1,1], L*L).reshape(L,L)\n",
    "    state_t = np.random.choice([-1,1], L*L).reshape(L,L)\n",
    "    return state_s, state_t\n",
    "def choose_lattice():\n",
    "    \"\"\"choose random lattice s or t\n",
    "    s == 1, t == -1\"\"\"\n",
    "    return rnd.choice([1,-1])\n",
    "def get_ij():\n",
    "    \"\"\"get spin for MC\"\"\"\n",
    "    i,j = rnd.randint(0, L-1), rnd.randint(0, L-1)\n",
    "    if i==L-1: i=-1\n",
    "    if j==L-1: j=-1\n",
    "    return i,j\n",
    "def get_conf(i,j,s,t):\n",
    "    \"\"\"формируем конфигурацию, по вышеописанному правилу таблицы энергий\"\"\"\n",
    "    arr = ([s[i,j]]+[s[i-1,j]]+[s[i,j+1]]+[s[i+1,j]]+[s[i,j-1]]+\n",
    "           [t[i,j]]+[t[i-1,j]]+[t[i,j+1]]+[t[i+1,j]]+[t[i,j-1]])\n",
    "    return arr\n",
    "def mc_choice(dE,T):\n",
    "    \"\"\"принимаем или не принимаем переворот спина?\"\"\"\n",
    "    if dE < 0:\n",
    "        return True\n",
    "    elif rnd.uniform(1,0) <= np.exp(-dE/T):\n",
    "        return True\n",
    "    else:\n",
    "        return False \n",
    "#################################################################\n",
    "def step(s,t,edict,T):\n",
    "    \"\"\"крутим 1 спин\"\"\"\n",
    "    i,j = get_ij()\n",
    "    arr = get_conf(i,j,s,t)\n",
    "    if choose_lattice()==1:     ### решетка s\n",
    "        arr_before = arr.copy() ### конфигурация ДО переворота спина\n",
    "        arr[0] *= -1            ### конфигурация ПОСЛЕ переворота спина на решетке s\n",
    "        dE = edict[str(arr)]-edict[str(arr_before)]\n",
    "        if mc_choice(dE,T):\n",
    "            s[i,j] *= -1\n",
    "    else:                       ### решетка t\n",
    "        arr_before = arr.copy() ### конфигурация ДО переворота спина\n",
    "        arr[5] *= -1            ### конфигурация ПОСЛЕ переворота спина на решетке t\n",
    "        dE = edict[str(arr)]-edict[str(arr_before)]\n",
    "        if mc_choice(dE,T):\n",
    "            t[i,j] *= -1\n",
    "    return s,t\n",
    "def mc_step(s, t, edict, T):\n",
    "    \"\"\"perform 2*L*L steps MC to relax\"\"\"\n",
    "    for _ in range(2*L*L):\n",
    "        s,t = step(s,t,edict,T)\n",
    "    return s, t\n",
    "#################################################################\n",
    "def expand(state):\n",
    "    _a = np.concatenate((state[L-1].reshape(1,L), state), axis=0)   # add last line to TOP\n",
    "    a = np.concatenate((_a, _a[:,0].reshape(L+1,1)), axis=1)    # add first line to RIGHT\n",
    "    return a\n",
    "def calc_e(s,t):\n",
    "    s,t = expand(s), expand(t)\n",
    "    e = 0\n",
    "    for i in range(L):\n",
    "        for j in range(L):\n",
    "            e += s[i,j]*s[i+1,j] + t[i,j]*t[i+1,j] + s[i,j]*s[i+1,j]*t[i,j]*t[i+1,j] # right neighbour\n",
    "            e += s[i,j]*s[i,j+1] + t[i,j]*t[i,j+1] + s[i,j]*s[i,j+1]*t[i,j]*t[i,j+1] # down neighbour\n",
    "    return -e/(L*L)\n",
    "def calc_m(s):\n",
    "    m = 0\n",
    "    for i in range(L):\n",
    "        for j in range(L):\n",
    "            m += s[i,j]\n",
    "    return m/(L*L) \n",
    "#################################################################\n",
    "def model_at(T,N_avg,N_mc=1,Relax=1000):\n",
    "    \"\"\"Моделируем АТ\"\"\"\n",
    "    E, M_s, M_t = [], [], []\n",
    "    edict = gen_e_dict()\n",
    "    state_s, state_t = gen_state()\n",
    "    \n",
    "    #relax 10**3 times be4 AVG\n",
    "    for __ in range(Relax):\n",
    "            state_s, state_t = mc_step(state_s, state_t, edict, T)\n",
    "    #AVG every N_mc steps\n",
    "    for _ in range(N_avg):\n",
    "        for __ in range(N_mc):\n",
    "            state_s, state_t = mc_step(state_s, state_t, edict, T)\n",
    "        E += [calc_e(state_s,state_t,L)]\n",
    "        M_s += [calc_m(state_s,L)]\n",
    "        M_t += [calc_m(state_t,L)]\n",
    "    \n",
    "    return E, M_s, M_t"
   ]
  },
  {
   "cell_type": "code",
   "execution_count": 13,
   "metadata": {
    "ExecuteTime": {
     "end_time": "2020-07-18T13:59:04.707597Z",
     "start_time": "2020-07-18T13:58:25.791772Z"
    }
   },
   "outputs": [
    {
     "name": "stdout",
     "output_type": "stream",
     "text": [
      "4.83 s ± 136 ms per loop (mean ± std. dev. of 7 runs, 1 loop each)\n"
     ]
    }
   ],
   "source": [
    "global L\n",
    "L = 100\n",
    "\n",
    "np.random.seed(1)\n",
    "s,t = gen_state(); edict = gen_e_dict()\n",
    "\n",
    "%timeit [mc_step(s,t,edict,1) for _ in range(10)]"
   ]
  },
  {
   "cell_type": "code",
   "execution_count": 19,
   "metadata": {
    "ExecuteTime": {
     "end_time": "2020-07-18T14:00:14.463147Z",
     "start_time": "2020-07-18T14:00:09.674552Z"
    }
   },
   "outputs": [
    {
     "name": "stdout",
     "output_type": "stream",
     "text": [
      "-0.0556\n",
      "-4.2288\n"
     ]
    }
   ],
   "source": [
    "global L\n",
    "L = 100\n",
    "\n",
    "np.random.seed(1)\n",
    "s,t = gen_state(); edict = gen_e_dict()\n",
    "print(calc_e(s,t))\n",
    "\n",
    "for _ in range(10):\n",
    "    mc_step(s,t, edict, 1)\n",
    "print(calc_e(s,t))"
   ]
  },
  {
   "cell_type": "code",
   "execution_count": null,
   "metadata": {},
   "outputs": [],
   "source": [
    "# py     -- 4.83 s ± 136 ms per loop (mean ± std. dev. of 7 runs, 1 loop each)"
   ]
  },
  {
   "cell_type": "code",
   "execution_count": null,
   "metadata": {},
   "outputs": [],
   "source": []
  },
  {
   "cell_type": "code",
   "execution_count": null,
   "metadata": {},
   "outputs": [],
   "source": []
  },
  {
   "cell_type": "code",
   "execution_count": null,
   "metadata": {},
   "outputs": [],
   "source": []
  },
  {
   "cell_type": "code",
   "execution_count": null,
   "metadata": {},
   "outputs": [],
   "source": []
  },
  {
   "cell_type": "code",
   "execution_count": null,
   "metadata": {},
   "outputs": [],
   "source": []
  }
 ],
 "metadata": {
  "kernelspec": {
   "display_name": "Python 3",
   "language": "python",
   "name": "python3"
  },
  "language_info": {
   "codemirror_mode": {
    "name": "ipython",
    "version": 3
   },
   "file_extension": ".py",
   "mimetype": "text/x-python",
   "name": "python",
   "nbconvert_exporter": "python",
   "pygments_lexer": "ipython3",
   "version": "3.6.8"
  },
  "toc": {
   "base_numbering": 1,
   "nav_menu": {},
   "number_sections": false,
   "sideBar": true,
   "skip_h1_title": false,
   "title_cell": "Table of Contents",
   "title_sidebar": "Contents",
   "toc_cell": false,
   "toc_position": {},
   "toc_section_display": true,
   "toc_window_display": false
  },
  "varInspector": {
   "cols": {
    "lenName": 16,
    "lenType": 16,
    "lenVar": 40
   },
   "kernels_config": {
    "python": {
     "delete_cmd_postfix": "",
     "delete_cmd_prefix": "del ",
     "library": "var_list.py",
     "varRefreshCmd": "print(var_dic_list())"
    },
    "r": {
     "delete_cmd_postfix": ") ",
     "delete_cmd_prefix": "rm(",
     "library": "var_list.r",
     "varRefreshCmd": "cat(var_dic_list()) "
    }
   },
   "types_to_exclude": [
    "module",
    "function",
    "builtin_function_or_method",
    "instance",
    "_Feature"
   ],
   "window_display": false
  }
 },
 "nbformat": 4,
 "nbformat_minor": 2
}
